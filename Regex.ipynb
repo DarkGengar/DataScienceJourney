{
  "nbformat": 4,
  "nbformat_minor": 0,
  "metadata": {
    "colab": {
      "name": "Regex.ipynb",
      "version": "0.3.2",
      "provenance": [],
      "collapsed_sections": []
    },
    "kernelspec": {
      "name": "python3",
      "display_name": "Python 3"
    }
  },
  "cells": [
    {
      "metadata": {
        "id": "ufd7Sme-dx-b",
        "colab_type": "text"
      },
      "cell_type": "markdown",
      "source": [
        "# Test Regular Expressions "
      ]
    },
    {
      "metadata": {
        "id": "-9tKmuESVz4L",
        "colab_type": "code",
        "colab": {}
      },
      "cell_type": "code",
      "source": [
        "import re"
      ],
      "execution_count": 0,
      "outputs": []
    },
    {
      "metadata": {
        "id": "b9POZaTEWL3A",
        "colab_type": "code",
        "outputId": "8fefd695-0cde-49fd-9c9b-56fdebe10c28",
        "colab": {
          "base_uri": "https://localhost:8080/",
          "height": 51
        }
      },
      "cell_type": "code",
      "source": [
        "txt = 'TheSpain'\n",
        "x = re.search('^The.*Spain$', txt)\n",
        "print(x.string)\n",
        "print(x.string == txt)"
      ],
      "execution_count": 0,
      "outputs": [
        {
          "output_type": "stream",
          "text": [
            "TheSpain\n",
            "True\n"
          ],
          "name": "stdout"
        }
      ]
    },
    {
      "metadata": {
        "id": "TyopOOM_du5P",
        "colab_type": "code",
        "outputId": "243fb1f4-92f6-4df7-8ceb-6a693947582b",
        "colab": {
          "base_uri": "https://localhost:8080/",
          "height": 34
        }
      },
      "cell_type": "code",
      "source": [
        "email_validator = re.compile('[a-z]+')\n",
        "print(email_validator.match('schoolofaiBellevue'))"
      ],
      "execution_count": 0,
      "outputs": [
        {
          "output_type": "stream",
          "text": [
            "<_sre.SRE_Match object; span=(0, 10), match='schoolofai'>\n"
          ],
          "name": "stdout"
        }
      ]
    },
    {
      "metadata": {
        "id": "au-TjVkbewDG",
        "colab_type": "code",
        "outputId": "f1562e01-d557-4022-ca59-9fdde582078c",
        "colab": {
          "base_uri": "https://localhost:8080/",
          "height": 34
        }
      },
      "cell_type": "code",
      "source": [
        "def valid_email(email):\n",
        "    return bool(re.search('^[\\w\\.\\+\\-]+\\@[\\w]+\\.[a-z]{2,3}$', email))\n",
        "valid_email('test@theschool.ai')"
      ],
      "execution_count": 0,
      "outputs": [
        {
          "output_type": "execute_result",
          "data": {
            "text/plain": [
              "True"
            ]
          },
          "metadata": {
            "tags": []
          },
          "execution_count": 36
        }
      ]
    },
    {
      "metadata": {
        "id": "u6PZyJmpW_9r",
        "colab_type": "text"
      },
      "cell_type": "markdown",
      "source": [
        ""
      ]
    }
  ]
}